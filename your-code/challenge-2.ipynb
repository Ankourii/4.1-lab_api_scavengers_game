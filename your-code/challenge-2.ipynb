{
 "cells": [
  {
   "cell_type": "markdown",
   "id": "threaded-asbestos",
   "metadata": {},
   "source": [
    "# Challenge 2: Count Commits\n",
    "\n",
    "Count how many commits were made in the past week.\n",
    "\n",
    "Obtain all the commits made in the past week via API, which is a JSON array that contains multiple commit objects.\n",
    "\n",
    "Count how many commit objects are contained in the array."
   ]
  },
  {
   "cell_type": "markdown",
   "id": "norwegian-praise",
   "metadata": {},
   "source": [
    "⚠️ **Remember to limit your output before submission**."
   ]
  },
  {
   "cell_type": "code",
   "execution_count": 1,
   "id": "2f7820c2",
   "metadata": {},
   "outputs": [],
   "source": [
    "import json\n",
    "import requests as req"
   ]
  },
  {
   "cell_type": "code",
   "execution_count": 2,
   "id": "c332bda3",
   "metadata": {},
   "outputs": [],
   "source": [
    "with open('kodikoi.txt', 'r') as file:   # pass.txt en .gitignore\n",
    "    \n",
    "    pass_ = file.read()\n",
    "\n",
    "HEADER = {'Authorization': 'token ' + pass_ } \n"
   ]
  },
  {
   "cell_type": "code",
   "execution_count": 3,
   "id": "ecf72aa7",
   "metadata": {},
   "outputs": [],
   "source": [
    "url= 'https://api.github.com/user/repos'"
   ]
  },
  {
   "cell_type": "code",
   "execution_count": 4,
   "id": "91a4916d",
   "metadata": {},
   "outputs": [
    {
     "data": {
      "text/plain": [
       "<Response [200]>"
      ]
     },
     "execution_count": 4,
     "metadata": {},
     "output_type": "execute_result"
    }
   ],
   "source": [
    "res = req.get(url, headers=HEADER)\n",
    "res\n"
   ]
  },
  {
   "cell_type": "code",
   "execution_count": 5,
   "id": "d3c43dc1",
   "metadata": {},
   "outputs": [
    {
     "data": {
      "text/plain": [
       "{'id': 702453191,\n",
       " 'node_id': 'R_kgDOKd6Vxw',\n",
       " 'name': '1.1-lab_bash',\n",
       " 'full_name': 'Ankourii/1.1-lab_bash',\n",
       " 'private': False,\n",
       " 'owner': {'login': 'Ankourii',\n",
       "  'id': 145614469,\n",
       "  'node_id': 'U_kgDOCK3mhQ',\n",
       "  'avatar_url': 'https://avatars.githubusercontent.com/u/145614469?v=4',\n",
       "  'gravatar_id': '',\n",
       "  'url': 'https://api.github.com/users/Ankourii',\n",
       "  'html_url': 'https://github.com/Ankourii',\n",
       "  'followers_url': 'https://api.github.com/users/Ankourii/followers',\n",
       "  'following_url': 'https://api.github.com/users/Ankourii/following{/other_user}',\n",
       "  'gists_url': 'https://api.github.com/users/Ankourii/gists{/gist_id}',\n",
       "  'starred_url': 'https://api.github.com/users/Ankourii/starred{/owner}{/repo}',\n",
       "  'subscriptions_url': 'https://api.github.com/users/Ankourii/subscriptions',\n",
       "  'organizations_url': 'https://api.github.com/users/Ankourii/orgs',\n",
       "  'repos_url': 'https://api.github.com/users/Ankourii/repos',\n",
       "  'events_url': 'https://api.github.com/users/Ankourii/events{/privacy}',\n",
       "  'received_events_url': 'https://api.github.com/users/Ankourii/received_events',\n",
       "  'type': 'User',\n",
       "  'site_admin': False},\n",
       " 'html_url': 'https://github.com/Ankourii/1.1-lab_bash',\n",
       " 'description': None,\n",
       " 'fork': True,\n",
       " 'url': 'https://api.github.com/repos/Ankourii/1.1-lab_bash',\n",
       " 'forks_url': 'https://api.github.com/repos/Ankourii/1.1-lab_bash/forks',\n",
       " 'keys_url': 'https://api.github.com/repos/Ankourii/1.1-lab_bash/keys{/key_id}',\n",
       " 'collaborators_url': 'https://api.github.com/repos/Ankourii/1.1-lab_bash/collaborators{/collaborator}',\n",
       " 'teams_url': 'https://api.github.com/repos/Ankourii/1.1-lab_bash/teams',\n",
       " 'hooks_url': 'https://api.github.com/repos/Ankourii/1.1-lab_bash/hooks',\n",
       " 'issue_events_url': 'https://api.github.com/repos/Ankourii/1.1-lab_bash/issues/events{/number}',\n",
       " 'events_url': 'https://api.github.com/repos/Ankourii/1.1-lab_bash/events',\n",
       " 'assignees_url': 'https://api.github.com/repos/Ankourii/1.1-lab_bash/assignees{/user}',\n",
       " 'branches_url': 'https://api.github.com/repos/Ankourii/1.1-lab_bash/branches{/branch}',\n",
       " 'tags_url': 'https://api.github.com/repos/Ankourii/1.1-lab_bash/tags',\n",
       " 'blobs_url': 'https://api.github.com/repos/Ankourii/1.1-lab_bash/git/blobs{/sha}',\n",
       " 'git_tags_url': 'https://api.github.com/repos/Ankourii/1.1-lab_bash/git/tags{/sha}',\n",
       " 'git_refs_url': 'https://api.github.com/repos/Ankourii/1.1-lab_bash/git/refs{/sha}',\n",
       " 'trees_url': 'https://api.github.com/repos/Ankourii/1.1-lab_bash/git/trees{/sha}',\n",
       " 'statuses_url': 'https://api.github.com/repos/Ankourii/1.1-lab_bash/statuses/{sha}',\n",
       " 'languages_url': 'https://api.github.com/repos/Ankourii/1.1-lab_bash/languages',\n",
       " 'stargazers_url': 'https://api.github.com/repos/Ankourii/1.1-lab_bash/stargazers',\n",
       " 'contributors_url': 'https://api.github.com/repos/Ankourii/1.1-lab_bash/contributors',\n",
       " 'subscribers_url': 'https://api.github.com/repos/Ankourii/1.1-lab_bash/subscribers',\n",
       " 'subscription_url': 'https://api.github.com/repos/Ankourii/1.1-lab_bash/subscription',\n",
       " 'commits_url': 'https://api.github.com/repos/Ankourii/1.1-lab_bash/commits{/sha}',\n",
       " 'git_commits_url': 'https://api.github.com/repos/Ankourii/1.1-lab_bash/git/commits{/sha}',\n",
       " 'comments_url': 'https://api.github.com/repos/Ankourii/1.1-lab_bash/comments{/number}',\n",
       " 'issue_comment_url': 'https://api.github.com/repos/Ankourii/1.1-lab_bash/issues/comments{/number}',\n",
       " 'contents_url': 'https://api.github.com/repos/Ankourii/1.1-lab_bash/contents/{+path}',\n",
       " 'compare_url': 'https://api.github.com/repos/Ankourii/1.1-lab_bash/compare/{base}...{head}',\n",
       " 'merges_url': 'https://api.github.com/repos/Ankourii/1.1-lab_bash/merges',\n",
       " 'archive_url': 'https://api.github.com/repos/Ankourii/1.1-lab_bash/{archive_format}{/ref}',\n",
       " 'downloads_url': 'https://api.github.com/repos/Ankourii/1.1-lab_bash/downloads',\n",
       " 'issues_url': 'https://api.github.com/repos/Ankourii/1.1-lab_bash/issues{/number}',\n",
       " 'pulls_url': 'https://api.github.com/repos/Ankourii/1.1-lab_bash/pulls{/number}',\n",
       " 'milestones_url': 'https://api.github.com/repos/Ankourii/1.1-lab_bash/milestones{/number}',\n",
       " 'notifications_url': 'https://api.github.com/repos/Ankourii/1.1-lab_bash/notifications{?since,all,participating}',\n",
       " 'labels_url': 'https://api.github.com/repos/Ankourii/1.1-lab_bash/labels{/name}',\n",
       " 'releases_url': 'https://api.github.com/repos/Ankourii/1.1-lab_bash/releases{/id}',\n",
       " 'deployments_url': 'https://api.github.com/repos/Ankourii/1.1-lab_bash/deployments',\n",
       " 'created_at': '2023-10-09T10:49:22Z',\n",
       " 'updated_at': '2023-10-09T11:41:11Z',\n",
       " 'pushed_at': '2023-10-09T16:09:17Z',\n",
       " 'git_url': 'git://github.com/Ankourii/1.1-lab_bash.git',\n",
       " 'ssh_url': 'git@github.com:Ankourii/1.1-lab_bash.git',\n",
       " 'clone_url': 'https://github.com/Ankourii/1.1-lab_bash.git',\n",
       " 'svn_url': 'https://github.com/Ankourii/1.1-lab_bash',\n",
       " 'homepage': 'https://github.com',\n",
       " 'size': 5,\n",
       " 'stargazers_count': 0,\n",
       " 'watchers_count': 0,\n",
       " 'language': 'Jupyter Notebook',\n",
       " 'has_issues': False,\n",
       " 'has_projects': True,\n",
       " 'has_downloads': True,\n",
       " 'has_wiki': False,\n",
       " 'has_pages': False,\n",
       " 'has_discussions': False,\n",
       " 'forks_count': 0,\n",
       " 'mirror_url': None,\n",
       " 'archived': False,\n",
       " 'disabled': False,\n",
       " 'open_issues_count': 0,\n",
       " 'license': None,\n",
       " 'allow_forking': True,\n",
       " 'is_template': False,\n",
       " 'web_commit_signoff_required': False,\n",
       " 'topics': [],\n",
       " 'visibility': 'public',\n",
       " 'forks': 0,\n",
       " 'open_issues': 0,\n",
       " 'watchers': 0,\n",
       " 'default_branch': 'main',\n",
       " 'permissions': {'admin': True,\n",
       "  'maintain': True,\n",
       "  'push': True,\n",
       "  'triage': True,\n",
       "  'pull': True}}"
      ]
     },
     "execution_count": 5,
     "metadata": {},
     "output_type": "execute_result"
    }
   ],
   "source": [
    "commits= res.json() \n",
    "\n",
    "commits[0]"
   ]
  },
  {
   "cell_type": "code",
   "execution_count": 6,
   "id": "8c00b5af",
   "metadata": {},
   "outputs": [
    {
     "data": {
      "text/plain": [
       "'https://api.github.com/repos/Ankourii/1.1-lab_bash/commits{/sha}'"
      ]
     },
     "execution_count": 6,
     "metadata": {},
     "output_type": "execute_result"
    }
   ],
   "source": [
    "commits[0]['commits_url']"
   ]
  },
  {
   "cell_type": "code",
   "execution_count": 7,
   "id": "be860c23",
   "metadata": {},
   "outputs": [
    {
     "data": {
      "text/plain": [
       "<Response [200]>"
      ]
     },
     "execution_count": 7,
     "metadata": {},
     "output_type": "execute_result"
    }
   ],
   "source": [
    "commits_url='https://api.github.com/repos/Ankourii/1.1-lab_bash/commits'\n",
    "\n",
    "\n",
    "resp = req.get(commits_url)\n",
    "resp\n"
   ]
  },
  {
   "cell_type": "code",
   "execution_count": 8,
   "id": "86e9615c",
   "metadata": {},
   "outputs": [],
   "source": [
    "commit_links= [e['commits_url'] for e in commits]\n"
   ]
  },
  {
   "cell_type": "code",
   "execution_count": 23,
   "id": "02b70f9e",
   "metadata": {},
   "outputs": [],
   "source": [
    "#this is using dates\n",
    "\n",
    "for link in commit_links:\n",
    "    link=link.replace('{/sha}','')\n",
    "    resp = req.get(link, headers=HEADER)\n",
    "    commits=resp.json()\n",
    "    commits_per_lab = []\n",
    "    for commit in commits:\n",
    "        if '2023-10-29' < commit['commit']['author']['date'] > '2023-10-23':\n",
    "            commits_per_lab.append(commit)"
   ]
  },
  {
   "cell_type": "code",
   "execution_count": 24,
   "id": "b87972bc",
   "metadata": {},
   "outputs": [
    {
     "data": {
      "text/plain": [
       "18"
      ]
     },
     "execution_count": 24,
     "metadata": {},
     "output_type": "execute_result"
    }
   ],
   "source": [
    "len(commits_per_lab)"
   ]
  },
  {
   "cell_type": "code",
   "execution_count": 16,
   "id": "d93c3ae9",
   "metadata": {},
   "outputs": [],
   "source": [
    "commit_links_week_3=commit_links[15:19]"
   ]
  },
  {
   "cell_type": "code",
   "execution_count": 17,
   "id": "36fdde08",
   "metadata": {},
   "outputs": [],
   "source": [
    "#this is using the labs that were given for week 3. \n",
    "commit_per_lab=[]\n",
    "lab_commit_count=0\n",
    "for link in commit_links_week_3:\n",
    "    link=link.replace('{/sha}','')\n",
    "    resp = req.get(link, headers=HEADER)\n",
    "    commits=resp.json()\n",
    "    commit_per_lab = []\n",
    "    for commit in commits:\n",
    "            lab_commit_count += 1\n",
    "            commit_per_lab.append(lab_commit_count)\n"
   ]
  },
  {
   "cell_type": "code",
   "execution_count": 18,
   "id": "e2a03ac1",
   "metadata": {},
   "outputs": [
    {
     "data": {
      "text/plain": [
       "[14, 15, 16, 17, 18, 19, 20]"
      ]
     },
     "execution_count": 18,
     "metadata": {},
     "output_type": "execute_result"
    }
   ],
   "source": [
    "commit_per_lab"
   ]
  },
  {
   "cell_type": "code",
   "execution_count": 19,
   "id": "58e8b2f3",
   "metadata": {},
   "outputs": [],
   "source": [
    "total_commits=sum(commit_per_lab)"
   ]
  },
  {
   "cell_type": "code",
   "execution_count": 20,
   "id": "9857f5ee",
   "metadata": {},
   "outputs": [
    {
     "data": {
      "text/plain": [
       "119"
      ]
     },
     "execution_count": 20,
     "metadata": {},
     "output_type": "execute_result"
    }
   ],
   "source": [
    "total_commits"
   ]
  }
 ],
 "metadata": {
  "kernelspec": {
   "display_name": "Python 3 (ipykernel)",
   "language": "python",
   "name": "python3"
  },
  "language_info": {
   "codemirror_mode": {
    "name": "ipython",
    "version": 3
   },
   "file_extension": ".py",
   "mimetype": "text/x-python",
   "name": "python",
   "nbconvert_exporter": "python",
   "pygments_lexer": "ipython3",
   "version": "3.11.4"
  },
  "toc": {
   "base_numbering": 1,
   "nav_menu": {},
   "number_sections": true,
   "sideBar": true,
   "skip_h1_title": true,
   "title_cell": "Table of Contents",
   "title_sidebar": "Contents",
   "toc_cell": false,
   "toc_position": {
    "height": "calc(100% - 180px)",
    "left": "10px",
    "top": "150px",
    "width": "288px"
   },
   "toc_section_display": true,
   "toc_window_display": true
  }
 },
 "nbformat": 4,
 "nbformat_minor": 5
}
