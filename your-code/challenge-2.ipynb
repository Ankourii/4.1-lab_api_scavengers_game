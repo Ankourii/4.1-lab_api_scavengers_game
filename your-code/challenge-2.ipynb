{
 "cells": [
  {
   "cell_type": "markdown",
   "id": "threaded-asbestos",
   "metadata": {},
   "source": [
    "# Challenge 2: Count Commits\n",
    "\n",
    "Count how many commits were made in the past week.\n",
    "\n",
    "Obtain all the commits made in the past week via API, which is a JSON array that contains multiple commit objects.\n",
    "\n",
    "Count how many commit objects are contained in the array."
   ]
  },
  {
   "cell_type": "markdown",
   "id": "norwegian-praise",
   "metadata": {},
   "source": [
    "⚠️ **Remember to limit your output before submission**."
   ]
  },
  {
   "cell_type": "code",
   "execution_count": 1,
   "id": "2f7820c2",
   "metadata": {},
   "outputs": [],
   "source": [
    "import json\n",
    "import requests as req"
   ]
  },
  {
   "cell_type": "code",
   "execution_count": 27,
   "id": "c332bda3",
   "metadata": {},
   "outputs": [],
   "source": [
    "with open('kodikoi.txt', 'r') as file:   # pass.txt en .gitignore\n",
    "    \n",
    "    pass_ = file.read()\n",
    "\n",
    "HEADER = {'Authorization': 'token ' + pass_ } \n"
   ]
  },
  {
   "cell_type": "code",
   "execution_count": 28,
   "id": "3a525a42",
   "metadata": {},
   "outputs": [
    {
     "data": {
      "text/plain": [
       "<Response [200]>"
      ]
     },
     "execution_count": 28,
     "metadata": {},
     "output_type": "execute_result"
    }
   ],
   "source": [
    "res = req.get(url, headers=HEADER)\n",
    "res\n"
   ]
  },
  {
   "cell_type": "code",
   "execution_count": 58,
   "id": "ecf72aa7",
   "metadata": {},
   "outputs": [],
   "source": [
    "url= 'https://api.github.com/user/repos'"
   ]
  },
  {
   "cell_type": "code",
   "execution_count": 59,
   "id": "91a4916d",
   "metadata": {},
   "outputs": [
    {
     "data": {
      "text/plain": [
       "<Response [200]>"
      ]
     },
     "execution_count": 59,
     "metadata": {},
     "output_type": "execute_result"
    }
   ],
   "source": [
    "res = req.get(url, headers=HEADER)\n",
    "res\n"
   ]
  },
  {
   "cell_type": "code",
   "execution_count": 63,
   "id": "d3c43dc1",
   "metadata": {},
   "outputs": [
    {
     "data": {
      "text/plain": [
       "{'id': 708777053,\n",
       " 'node_id': 'R_kgDOKj8UXQ',\n",
       " 'name': '3.1-lab_intro_to_mysql',\n",
       " 'full_name': 'Ankourii/3.1-lab_intro_to_mysql',\n",
       " 'private': False,\n",
       " 'owner': {'login': 'Ankourii',\n",
       "  'id': 145614469,\n",
       "  'node_id': 'U_kgDOCK3mhQ',\n",
       "  'avatar_url': 'https://avatars.githubusercontent.com/u/145614469?v=4',\n",
       "  'gravatar_id': '',\n",
       "  'url': 'https://api.github.com/users/Ankourii',\n",
       "  'html_url': 'https://github.com/Ankourii',\n",
       "  'followers_url': 'https://api.github.com/users/Ankourii/followers',\n",
       "  'following_url': 'https://api.github.com/users/Ankourii/following{/other_user}',\n",
       "  'gists_url': 'https://api.github.com/users/Ankourii/gists{/gist_id}',\n",
       "  'starred_url': 'https://api.github.com/users/Ankourii/starred{/owner}{/repo}',\n",
       "  'subscriptions_url': 'https://api.github.com/users/Ankourii/subscriptions',\n",
       "  'organizations_url': 'https://api.github.com/users/Ankourii/orgs',\n",
       "  'repos_url': 'https://api.github.com/users/Ankourii/repos',\n",
       "  'events_url': 'https://api.github.com/users/Ankourii/events{/privacy}',\n",
       "  'received_events_url': 'https://api.github.com/users/Ankourii/received_events',\n",
       "  'type': 'User',\n",
       "  'site_admin': False},\n",
       " 'html_url': 'https://github.com/Ankourii/3.1-lab_intro_to_mysql',\n",
       " 'description': None,\n",
       " 'fork': True,\n",
       " 'url': 'https://api.github.com/repos/Ankourii/3.1-lab_intro_to_mysql',\n",
       " 'forks_url': 'https://api.github.com/repos/Ankourii/3.1-lab_intro_to_mysql/forks',\n",
       " 'keys_url': 'https://api.github.com/repos/Ankourii/3.1-lab_intro_to_mysql/keys{/key_id}',\n",
       " 'collaborators_url': 'https://api.github.com/repos/Ankourii/3.1-lab_intro_to_mysql/collaborators{/collaborator}',\n",
       " 'teams_url': 'https://api.github.com/repos/Ankourii/3.1-lab_intro_to_mysql/teams',\n",
       " 'hooks_url': 'https://api.github.com/repos/Ankourii/3.1-lab_intro_to_mysql/hooks',\n",
       " 'issue_events_url': 'https://api.github.com/repos/Ankourii/3.1-lab_intro_to_mysql/issues/events{/number}',\n",
       " 'events_url': 'https://api.github.com/repos/Ankourii/3.1-lab_intro_to_mysql/events',\n",
       " 'assignees_url': 'https://api.github.com/repos/Ankourii/3.1-lab_intro_to_mysql/assignees{/user}',\n",
       " 'branches_url': 'https://api.github.com/repos/Ankourii/3.1-lab_intro_to_mysql/branches{/branch}',\n",
       " 'tags_url': 'https://api.github.com/repos/Ankourii/3.1-lab_intro_to_mysql/tags',\n",
       " 'blobs_url': 'https://api.github.com/repos/Ankourii/3.1-lab_intro_to_mysql/git/blobs{/sha}',\n",
       " 'git_tags_url': 'https://api.github.com/repos/Ankourii/3.1-lab_intro_to_mysql/git/tags{/sha}',\n",
       " 'git_refs_url': 'https://api.github.com/repos/Ankourii/3.1-lab_intro_to_mysql/git/refs{/sha}',\n",
       " 'trees_url': 'https://api.github.com/repos/Ankourii/3.1-lab_intro_to_mysql/git/trees{/sha}',\n",
       " 'statuses_url': 'https://api.github.com/repos/Ankourii/3.1-lab_intro_to_mysql/statuses/{sha}',\n",
       " 'languages_url': 'https://api.github.com/repos/Ankourii/3.1-lab_intro_to_mysql/languages',\n",
       " 'stargazers_url': 'https://api.github.com/repos/Ankourii/3.1-lab_intro_to_mysql/stargazers',\n",
       " 'contributors_url': 'https://api.github.com/repos/Ankourii/3.1-lab_intro_to_mysql/contributors',\n",
       " 'subscribers_url': 'https://api.github.com/repos/Ankourii/3.1-lab_intro_to_mysql/subscribers',\n",
       " 'subscription_url': 'https://api.github.com/repos/Ankourii/3.1-lab_intro_to_mysql/subscription',\n",
       " 'commits_url': 'https://api.github.com/repos/Ankourii/3.1-lab_intro_to_mysql/commits{/sha}',\n",
       " 'git_commits_url': 'https://api.github.com/repos/Ankourii/3.1-lab_intro_to_mysql/git/commits{/sha}',\n",
       " 'comments_url': 'https://api.github.com/repos/Ankourii/3.1-lab_intro_to_mysql/comments{/number}',\n",
       " 'issue_comment_url': 'https://api.github.com/repos/Ankourii/3.1-lab_intro_to_mysql/issues/comments{/number}',\n",
       " 'contents_url': 'https://api.github.com/repos/Ankourii/3.1-lab_intro_to_mysql/contents/{+path}',\n",
       " 'compare_url': 'https://api.github.com/repos/Ankourii/3.1-lab_intro_to_mysql/compare/{base}...{head}',\n",
       " 'merges_url': 'https://api.github.com/repos/Ankourii/3.1-lab_intro_to_mysql/merges',\n",
       " 'archive_url': 'https://api.github.com/repos/Ankourii/3.1-lab_intro_to_mysql/{archive_format}{/ref}',\n",
       " 'downloads_url': 'https://api.github.com/repos/Ankourii/3.1-lab_intro_to_mysql/downloads',\n",
       " 'issues_url': 'https://api.github.com/repos/Ankourii/3.1-lab_intro_to_mysql/issues{/number}',\n",
       " 'pulls_url': 'https://api.github.com/repos/Ankourii/3.1-lab_intro_to_mysql/pulls{/number}',\n",
       " 'milestones_url': 'https://api.github.com/repos/Ankourii/3.1-lab_intro_to_mysql/milestones{/number}',\n",
       " 'notifications_url': 'https://api.github.com/repos/Ankourii/3.1-lab_intro_to_mysql/notifications{?since,all,participating}',\n",
       " 'labels_url': 'https://api.github.com/repos/Ankourii/3.1-lab_intro_to_mysql/labels{/name}',\n",
       " 'releases_url': 'https://api.github.com/repos/Ankourii/3.1-lab_intro_to_mysql/releases{/id}',\n",
       " 'deployments_url': 'https://api.github.com/repos/Ankourii/3.1-lab_intro_to_mysql/deployments',\n",
       " 'created_at': '2023-10-23T11:23:15Z',\n",
       " 'updated_at': '2023-10-23T11:23:15Z',\n",
       " 'pushed_at': '2023-10-24T13:49:22Z',\n",
       " 'git_url': 'git://github.com/Ankourii/3.1-lab_intro_to_mysql.git',\n",
       " 'ssh_url': 'git@github.com:Ankourii/3.1-lab_intro_to_mysql.git',\n",
       " 'clone_url': 'https://github.com/Ankourii/3.1-lab_intro_to_mysql.git',\n",
       " 'svn_url': 'https://github.com/Ankourii/3.1-lab_intro_to_mysql',\n",
       " 'homepage': 'https://github.com',\n",
       " 'size': 184,\n",
       " 'stargazers_count': 0,\n",
       " 'watchers_count': 0,\n",
       " 'language': None,\n",
       " 'has_issues': False,\n",
       " 'has_projects': True,\n",
       " 'has_downloads': True,\n",
       " 'has_wiki': False,\n",
       " 'has_pages': False,\n",
       " 'has_discussions': False,\n",
       " 'forks_count': 0,\n",
       " 'mirror_url': None,\n",
       " 'archived': False,\n",
       " 'disabled': False,\n",
       " 'open_issues_count': 0,\n",
       " 'license': None,\n",
       " 'allow_forking': True,\n",
       " 'is_template': False,\n",
       " 'web_commit_signoff_required': False,\n",
       " 'topics': [],\n",
       " 'visibility': 'public',\n",
       " 'forks': 0,\n",
       " 'open_issues': 0,\n",
       " 'watchers': 0,\n",
       " 'default_branch': 'main',\n",
       " 'permissions': {'admin': True,\n",
       "  'maintain': True,\n",
       "  'push': True,\n",
       "  'triage': True,\n",
       "  'pull': True}}"
      ]
     },
     "execution_count": 63,
     "metadata": {},
     "output_type": "execute_result"
    }
   ],
   "source": [
    "commits_week_3= res.json()[-8:-5]\n",
    "\n",
    "commits_week_3[0]"
   ]
  },
  {
   "cell_type": "code",
   "execution_count": 75,
   "id": "8c00b5af",
   "metadata": {},
   "outputs": [
    {
     "data": {
      "text/plain": [
       "'https://api.github.com/repos/Ankourii/3.2-lab_mysql_select/commits{/sha}'"
      ]
     },
     "execution_count": 75,
     "metadata": {},
     "output_type": "execute_result"
    }
   ],
   "source": [
    "commits_week_3[1]['commits_url']"
   ]
  },
  {
   "cell_type": "code",
   "execution_count": 64,
   "id": "be860c23",
   "metadata": {},
   "outputs": [
    {
     "data": {
      "text/plain": [
       "<Response [200]>"
      ]
     },
     "execution_count": 64,
     "metadata": {},
     "output_type": "execute_result"
    }
   ],
   "source": [
    "commits_url='https://api.github.com/repos/Ankourii/3.1-lab_intro_to_mysql/commits'\n",
    "\n",
    "resp = req.get(commits_url)\n",
    "resp\n"
   ]
  },
  {
   "cell_type": "code",
   "execution_count": 74,
   "id": "06c2c377",
   "metadata": {},
   "outputs": [
    {
     "data": {
      "text/plain": [
       "4"
      ]
     },
     "execution_count": 74,
     "metadata": {},
     "output_type": "execute_result"
    }
   ],
   "source": [
    "len(resp.json())"
   ]
  },
  {
   "cell_type": "code",
   "execution_count": 82,
   "id": "941a88bb",
   "metadata": {},
   "outputs": [
    {
     "data": {
      "text/plain": [
       "[2, 2, 2]"
      ]
     },
     "execution_count": 82,
     "metadata": {},
     "output_type": "execute_result"
    }
   ],
   "source": [
    "commits_per_lab = []\n",
    "for commit_info in commits_week_3:\n",
    "    url = commit_info['commits_url']\n",
    "    res = req.get(url)\n",
    "    commits_per_lab.append(len(res.json()))\n",
    "\n",
    "commits_per_lab"
   ]
  }
 ],
 "metadata": {
  "kernelspec": {
   "display_name": "Python 3 (ipykernel)",
   "language": "python",
   "name": "python3"
  },
  "language_info": {
   "codemirror_mode": {
    "name": "ipython",
    "version": 3
   },
   "file_extension": ".py",
   "mimetype": "text/x-python",
   "name": "python",
   "nbconvert_exporter": "python",
   "pygments_lexer": "ipython3",
   "version": "3.11.4"
  },
  "toc": {
   "base_numbering": 1,
   "nav_menu": {},
   "number_sections": true,
   "sideBar": true,
   "skip_h1_title": true,
   "title_cell": "Table of Contents",
   "title_sidebar": "Contents",
   "toc_cell": false,
   "toc_position": {
    "height": "calc(100% - 180px)",
    "left": "10px",
    "top": "150px",
    "width": "288px"
   },
   "toc_section_display": true,
   "toc_window_display": true
  }
 },
 "nbformat": 4,
 "nbformat_minor": 5
}
